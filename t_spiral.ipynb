{
 "cells": [
  {
   "cell_type": "markdown",
   "metadata": {},
   "source": [
    "# TSpiral\n",
    "\n",
    "[Code of Project](https://github.com/cerlymarco/tspiral)\n",
    "\n",
    "Is a python package for time series forecasting using scikit-learn estimators.\n",
    "\n",
    "TSpiral is not a wrapper for other tools, it directly provides scikit-learn estimators for time series forecasting. It leverages the benefit of using scikit-learn syntax and components to easily access the open source ecosystem built on top of the scikit-learn community. It easily maps complex time series forecasting problems into a tabular supervised regression task, solving it with a standard approach. \n",
    "\n",
    "It provides 4 optimized forecasting techniques:\n",
    "\n",
    "- Recursive Forecasting: Lagged target features are combined with exogenous regressors (if provided) and lagged exogenous features (if specified). A scikit-learn compatible regressor is fitted on the whole merged data. The fitted estimator is called iteratively to predict multiple steps ahead. \n",
    "\n",
    "![](https://raw.githubusercontent.com/cerlymarco/tspiral/master/imgs/recursive-standard.PNG)\n",
    "- Direct Forecasting: A scikit learn compatible regressor is fitted on the lagged data for each time step to forecast.\n",
    "\n",
    "![](https://raw.githubusercontent.com/cerlymarco/tspiral/master/imgs/direct.PNG)\n",
    "- Stacking Forecasting: Multiple recursive time series forecasters are fitted and combined on the final portion of the training data with a meta-learner. \n",
    "  \n",
    "![](https://raw.githubusercontent.com/cerlymarco/tspiral/master/imgs/stacked.PNG)\n",
    "- Rectified Forecasting: Multiple recursive time series forecasters are fitted on different sliding window training bunches. Forecasts are adjust and combined fitting a meta-learner for each forecasting step. \n",
    "\n",
    "![](https://raw.githubusercontent.com/cerlymarco/tspiral/master/imgs/rectify.PNG)"
   ]
  },
  {
   "cell_type": "code",
   "execution_count": null,
   "metadata": {},
   "outputs": [],
   "source": [
    "# Recursive Forecasting:\n",
    "\n",
    "import numpy as np\n",
    "from sklearn.linear_model import Ridge\n",
    "from tsprial.forecasting import ForecastingCascade\n",
    "timesteps = 400\n",
    "e = np.random.normal(0,1, (timesteps,))\n",
    "y = 2*np.sin(np.arange(timesteps)*(2*np.pi/24))+e\n",
    "model = ForecastingCascade(\n",
    "    Ridge(),\n",
    "    lags=range(1,24+1),\n",
    "    use_exog=False,\n",
    "    accept_nan=False\n",
    ")\n",
    "model.fit(None, y)\n",
    "forecasts = model.predict(np.arange(24*3))"
   ]
  },
  {
   "cell_type": "code",
   "execution_count": null,
   "metadata": {},
   "outputs": [],
   "source": [
    "# Direct Forecasting:\n",
    "\n",
    "import numpy as np\n",
    "from sklearn.linear_model import Ridge\n",
    "from tsprial.forecasting import ForecastingChain\n",
    "timesteps = 400\n",
    "e = np.random.normal(0,1, (timesteps,))\n",
    "y = 2*np.sin(np.arange(timesteps)*(2*np.pi/24))+e\n",
    "model = ForecastingChain(\n",
    "    Ridge(),\n",
    "    n_estimators=24,\n",
    "    lags=range(1,24+1),\n",
    "    use_exog=False,\n",
    "    accept_nan=False\n",
    ")\n",
    "model.fit(None, y)\n",
    "forecasts = model.predict(np.arange(24*3))"
   ]
  },
  {
   "cell_type": "code",
   "execution_count": null,
   "metadata": {},
   "outputs": [],
   "source": [
    "# Stacking Forecasting\n",
    "\n",
    "import numpy as np\n",
    "from sklearn.linear_model import Ridge\n",
    "from sklearn.tree import DecisionTreeRegressor\n",
    "from tsprial.forecasting import ForecastingStacked\n",
    "timesteps = 400\n",
    "e = np.random.normal(0,1, (timesteps,))\n",
    "y = 2*np.sin(np.arange(timesteps)*(2*np.pi/24))+e\n",
    "model = ForecastingStacked(\n",
    "    [Ridge(), DecisionTreeRegressor()],\n",
    "    test_size=24*3,\n",
    "    lags=range(1,24+1),\n",
    "    use_exog=False\n",
    ")\n",
    "model.fit(None, y)\n",
    "forecasts = model.predict(np.arange(24*3))"
   ]
  },
  {
   "cell_type": "code",
   "execution_count": null,
   "metadata": {},
   "outputs": [],
   "source": [
    "# Rectified Forecasting\n",
    "\n",
    "import numpy as np\n",
    "from sklearn.linear_model import Ridge\n",
    "from tsprial.forecasting import ForecastingRectified\n",
    "timesteps = 400\n",
    "e = np.random.normal(0,1, (timesteps,))\n",
    "y = 2*np.sin(np.arange(timesteps)*(2*np.pi/24))+e\n",
    "model = ForecastingRectified(\n",
    "    Ridge(),\n",
    "    n_estimators=200,\n",
    "    test_size=24*3,\n",
    "    lags=range(1,24+1),\n",
    "    use_exog=False\n",
    ")\n",
    "model.fit(None, y)\n",
    "forecasts = model.predict(np.arange(24*3))"
   ]
  }
 ],
 "metadata": {
  "kernelspec": {
   "display_name": "Python 3.8.11 ('bru_ds')",
   "language": "python",
   "name": "python3"
  },
  "language_info": {
   "name": "python",
   "version": "3.8.11"
  },
  "orig_nbformat": 4,
  "vscode": {
   "interpreter": {
    "hash": "ba7033ad42021d8fde750941f7374709dc7fad13ee27a9cd8f3ab36e378bdd7b"
   }
  }
 },
 "nbformat": 4,
 "nbformat_minor": 2
}
