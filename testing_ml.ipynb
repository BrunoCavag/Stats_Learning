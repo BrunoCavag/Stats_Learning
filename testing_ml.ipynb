{
 "cells": [
  {
   "cell_type": "markdown",
   "metadata": {},
   "source": [
    "# Step-by-step framework for developing robust ML projects\n",
    "\n",
    "https://towardsdatascience.com/effective-testing-for-machine-learning-part-ii-6ac7feb287a7\n",
    "\n",
    "**Challenges when testing ML projects**\n",
    "\n",
    "Testing Machine Learning projects is challenging. Training a model is a long-running task that may take hours to run and has a non-deterministic output, which is the opposite we need to test software: quick and deterministic procedures.\n",
    "\n",
    "![Typical Machine Learning Pipeline](Pipeline.png)\n",
    "\n",
    "\n",
    "**What can go wrong?**\n",
    "\n",
    "To motivate our testing strategy, let’s enumerate what could go wrong with each part:\n",
    "\n",
    "Feature generation pipeline\n",
    "- Cannot run the pipeline (e.g., setup problems, broken code).\n",
    "- Cannot reproduce a previously generated training set.\n",
    "- Pipeline produces low-quality training data.\n",
    "\n",
    "Training task\n",
    "- Cannot train a model (e.g., missing dependencies, broken code).\n",
    "- Running the training task with high-quality data produces low-quality models.\n",
    "\n",
    "Model file\n",
    "- The generated model has a lower quality than our current model in production.\n",
    "- The model file does not integrate correctly with the serving pipeline.\n",
    "\n",
    "Serving pipeline\n",
    "- Cannot serve predictions (e.g., missing dependencies, broken code).\n",
    "- Mismatch between preprocessing at training and serving time (aka training-serving skew).\n",
    "- Outputs a prediction when passing invalid raw data.\n",
    "- Crashes when passed valid data.\n",
    "\n",
    "\n",
    "**Testing strategy**\n",
    "\n",
    "- Smoke testing. We ensure our code works by running it on each git push.\n",
    "- Integration testing and unit testing. Test task’s output and data transformations.\n",
    "- Distribution changes and serving pipeline. Test changes in data distributions and test we can load a model file and predict.\n",
    "- Training-serving skew. Test that the training and serving logic is consistent.\n",
    "Model quality. Test model quality."
   ]
  },
  {
   "cell_type": "markdown",
   "metadata": {},
   "source": [
    "## Quick introduction to testing in pytest"
   ]
  },
  {
   "cell_type": "code",
   "execution_count": null,
   "metadata": {},
   "outputs": [],
   "source": []
  }
 ],
 "metadata": {
  "interpreter": {
   "hash": "ba7033ad42021d8fde750941f7374709dc7fad13ee27a9cd8f3ab36e378bdd7b"
  },
  "kernelspec": {
   "display_name": "Python 3.8.11 ('bru_ds')",
   "language": "python",
   "name": "python3"
  },
  "language_info": {
   "name": "python",
   "version": "3.8.11"
  },
  "orig_nbformat": 4
 },
 "nbformat": 4,
 "nbformat_minor": 2
}
