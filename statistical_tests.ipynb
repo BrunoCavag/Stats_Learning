{
 "cells": [
  {
   "cell_type": "markdown",
   "metadata": {},
   "source": [
    "# Review of Statistical Tests"
   ]
  },
  {
   "cell_type": "markdown",
   "metadata": {},
   "source": [
    "## Test Kruskal-Wallis\n",
    "\n",
    "El test de Kruskal-Wallis, también conocido como test H, es la alternativa no paramétrica al test ANOVA de una vía para datos no pareados. Se trata de una extensión del test de Mann-Whitney para más de dos grupos. Es por lo tanto de un test que emplea rangos para contrastar la hipótesis de que k muestras han sido obtenidas de una misma población.\n",
    "\n",
    "A diferencia del ANOVA en el que se comparan medias, el test de Kruskal-Wallis contrasta si las diferentes muestras están equidistribuidas y que por lo tanto pertenecen a una misma distribución (población). Bajo ciertas simplificaciones puede considerarse que el test de Kruskal-Wallis compara las medianas.\n",
    "\n",
    "- H0: todas las muestras provienen de la misma población (distribución).\n",
    "- HA: Al menos una muestra proviene de una población con una distribución distinta.\n",
    "\n",
    "El test de Kruskal-Wallis es el test adecuado cuando los datos tienen un orden natural, es decir, cuando para darles sentido tienen que estar ordenados o bien cuando no se satisfacen las condiciones para poder aplicar un ANOVA.\n",
    "\n",
    "\n",
    "Supóngase que se dispone de k grupos cada uno con n observaciones. Si se ordenan todas las observaciones de menor a mayor y se le asigna a cada una de ellas su rango, cuando se obtenga la suma de rangos para cada uno de los grupos (Ri) es de esperar que, si se cumple la hipótesis nula, todos los grupos tengan un valor similar. Partiendo de esta idea se calcula el estadístico H como:\n",
    "\n",
    "\n",
    "$$ H = 12/(N/(N+1)) * (\\sum_{i = 1}^{k} R_{i}^2 - 3(N+1)) $$\n",
    "\n",
    "**Condiciones**\n",
    "\n",
    "- No es necesario que las muestras que se comparan provengan de una distribución normal.\n",
    "\n",
    "- Homocedasticidad: dado que la hipótesis nula asume que todos los grupos pertenecen a una misma población y que por lo tanto tienen las mismas medianas, es requisito necesario que todos los grupos tengan la misma varianza. Se puede comprobar con representaciones gráficas o con los test de Levenne o Barttlet.\n",
    "\n",
    "- Misma distribución para todos los grupos: la distribución de los grupos no tiene que ser normal pero ha de ser igual en todos (por ejemplo que todos muestren asimetría hacia la derecha).\n",
    "\n",
    "\n",
    "Si estos requerimientos se cumplen, el estadístico H del test de Kruskal-Wallis se compara con:\n",
    "\n",
    "Si el tamaño de grupos k es igual a 3 y el número de observaciones en cada uno no es mayor que 5, se recurre a tablas tabuladas con valores teóricos de H.\n",
    "\n",
    "En el resto de casos se asume que el estadístico H sigue una distribución χ2 con k-1 grados de libertad (siendo k el número de grupos a comparar)."
   ]
  },
  {
   "cell_type": "code",
   "execution_count": 1,
   "metadata": {},
   "outputs": [
    {
     "data": {
      "text/html": [
       "<table class=\"dataframe\">\n",
       "<caption>A data.frame: 6 × 2</caption>\n",
       "<thead>\n",
       "\t<tr><th></th><th scope=col>condicion</th><th scope=col>n_huevos</th></tr>\n",
       "\t<tr><th></th><th scope=col>&lt;fct&gt;</th><th scope=col>&lt;dbl&gt;</th></tr>\n",
       "</thead>\n",
       "<tbody>\n",
       "\t<tr><th scope=row>1</th><td>condicion1</td><td>1</td></tr>\n",
       "\t<tr><th scope=row>2</th><td>condicion1</td><td>2</td></tr>\n",
       "\t<tr><th scope=row>3</th><td>condicion1</td><td>3</td></tr>\n",
       "\t<tr><th scope=row>4</th><td>condicion1</td><td>4</td></tr>\n",
       "\t<tr><th scope=row>5</th><td>condicion1</td><td>5</td></tr>\n",
       "\t<tr><th scope=row>6</th><td>condicion1</td><td>6</td></tr>\n",
       "</tbody>\n",
       "</table>\n"
      ],
      "text/latex": [
       "A data.frame: 6 × 2\n",
       "\\begin{tabular}{r|ll}\n",
       "  & condicion & n\\_huevos\\\\\n",
       "  & <fct> & <dbl>\\\\\n",
       "\\hline\n",
       "\t1 & condicion1 & 1\\\\\n",
       "\t2 & condicion1 & 2\\\\\n",
       "\t3 & condicion1 & 3\\\\\n",
       "\t4 & condicion1 & 4\\\\\n",
       "\t5 & condicion1 & 5\\\\\n",
       "\t6 & condicion1 & 6\\\\\n",
       "\\end{tabular}\n"
      ],
      "text/markdown": [
       "\n",
       "A data.frame: 6 × 2\n",
       "\n",
       "| <!--/--> | condicion &lt;fct&gt; | n_huevos &lt;dbl&gt; |\n",
       "|---|---|---|\n",
       "| 1 | condicion1 | 1 |\n",
       "| 2 | condicion1 | 2 |\n",
       "| 3 | condicion1 | 3 |\n",
       "| 4 | condicion1 | 4 |\n",
       "| 5 | condicion1 | 5 |\n",
       "| 6 | condicion1 | 6 |\n",
       "\n"
      ],
      "text/plain": [
       "  condicion  n_huevos\n",
       "1 condicion1 1       \n",
       "2 condicion1 2       \n",
       "3 condicion1 3       \n",
       "4 condicion1 4       \n",
       "5 condicion1 5       \n",
       "6 condicion1 6       "
      ]
     },
     "metadata": {},
     "output_type": "display_data"
    }
   ],
   "source": [
    "datos <- data.frame(\n",
    "    condicion = c(rep(\"condicion1\", 18), rep(\"condicion2\", 18), rep(\"condicion3\", 18)),\n",
    "    n_huevos = c(\n",
    "        1, 2, 3, 4, 5, 6, 7, 8, 9, 16, 27, 28, 29, 30, 51, 52, 53, 342, 40,\n",
    "        41, 42, 43, 44, 45, 46, 47, 48, 67, 88, 89, 90, 91, 92, 93, 94, 293,\n",
    "        19, 20, 21, 22, 23, 24, 25, 26, 27, 28, 25, 36, 37, 58, 59, 60, 71, 72\n",
    "    )\n",
    ")\n",
    "head(datos)"
   ]
  },
  {
   "cell_type": "code",
   "execution_count": 2,
   "metadata": {},
   "outputs": [
    {
     "data": {
      "text/html": [
       "<table class=\"dataframe\">\n",
       "<caption>A data.frame: 3 × 2</caption>\n",
       "<thead>\n",
       "\t<tr><th scope=col>condicion</th><th scope=col>n_huevos</th></tr>\n",
       "\t<tr><th scope=col>&lt;fct&gt;</th><th scope=col>&lt;dbl&gt;</th></tr>\n",
       "</thead>\n",
       "<tbody>\n",
       "\t<tr><td>condicion1</td><td>12.5</td></tr>\n",
       "\t<tr><td>condicion2</td><td>57.5</td></tr>\n",
       "\t<tr><td>condicion3</td><td>26.5</td></tr>\n",
       "</tbody>\n",
       "</table>\n"
      ],
      "text/latex": [
       "A data.frame: 3 × 2\n",
       "\\begin{tabular}{ll}\n",
       " condicion & n\\_huevos\\\\\n",
       " <fct> & <dbl>\\\\\n",
       "\\hline\n",
       "\t condicion1 & 12.5\\\\\n",
       "\t condicion2 & 57.5\\\\\n",
       "\t condicion3 & 26.5\\\\\n",
       "\\end{tabular}\n"
      ],
      "text/markdown": [
       "\n",
       "A data.frame: 3 × 2\n",
       "\n",
       "| condicion &lt;fct&gt; | n_huevos &lt;dbl&gt; |\n",
       "|---|---|\n",
       "| condicion1 | 12.5 |\n",
       "| condicion2 | 57.5 |\n",
       "| condicion3 | 26.5 |\n",
       "\n"
      ],
      "text/plain": [
       "  condicion  n_huevos\n",
       "1 condicion1 12.5    \n",
       "2 condicion2 57.5    \n",
       "3 condicion3 26.5    "
      ]
     },
     "metadata": {},
     "output_type": "display_data"
    }
   ],
   "source": [
    "aggregate(n_huevos ~ condicion, data = datos, FUN = median)"
   ]
  },
  {
   "cell_type": "code",
   "execution_count": 3,
   "metadata": {},
   "outputs": [
    {
     "data": {
      "text/html": [
       "<table class=\"dataframe\">\n",
       "<caption>A data.frame: 3 × 2</caption>\n",
       "<thead>\n",
       "\t<tr><th scope=col>condicion</th><th scope=col>n_huevos</th></tr>\n",
       "\t<tr><th scope=col>&lt;fct&gt;</th><th scope=col>&lt;dbl&gt;</th></tr>\n",
       "</thead>\n",
       "<tbody>\n",
       "\t<tr><td>condicion1</td><td>78.10637</td></tr>\n",
       "\t<tr><td>condicion2</td><td>58.41750</td></tr>\n",
       "\t<tr><td>condicion3</td><td>18.59097</td></tr>\n",
       "</tbody>\n",
       "</table>\n"
      ],
      "text/latex": [
       "A data.frame: 3 × 2\n",
       "\\begin{tabular}{ll}\n",
       " condicion & n\\_huevos\\\\\n",
       " <fct> & <dbl>\\\\\n",
       "\\hline\n",
       "\t condicion1 & 78.10637\\\\\n",
       "\t condicion2 & 58.41750\\\\\n",
       "\t condicion3 & 18.59097\\\\\n",
       "\\end{tabular}\n"
      ],
      "text/markdown": [
       "\n",
       "A data.frame: 3 × 2\n",
       "\n",
       "| condicion &lt;fct&gt; | n_huevos &lt;dbl&gt; |\n",
       "|---|---|\n",
       "| condicion1 | 78.10637 |\n",
       "| condicion2 | 58.41750 |\n",
       "| condicion3 | 18.59097 |\n",
       "\n"
      ],
      "text/plain": [
       "  condicion  n_huevos\n",
       "1 condicion1 78.10637\n",
       "2 condicion2 58.41750\n",
       "3 condicion3 18.59097"
      ]
     },
     "metadata": {},
     "output_type": "display_data"
    }
   ],
   "source": [
    "aggregate(n_huevos ~ condicion, data = datos, FUN = sd)"
   ]
  },
  {
   "cell_type": "code",
   "execution_count": 4,
   "metadata": {},
   "outputs": [
    {
     "data": {
      "image/png": "[encoded data removed]",
      "text/plain": [
       "plot without title"
      ]
     },
     "metadata": {
      "image/png": {
       "height": 420,
       "width": 420
      }
     },
     "output_type": "display_data"
    }
   ],
   "source": [
    "library(ggplot2)\n",
    "\n",
    "ggplot(data = datos, mapping = aes(x = condicion, y = n_huevos, colour = condicion)) +\n",
    "    geom_boxplot() +\n",
    "    theme_bw() +\n",
    "    theme(legend.position = \"none\")"
   ]
  },
  {
   "cell_type": "code",
   "execution_count": 5,
   "metadata": {},
   "outputs": [
    {
     "name": "stderr",
     "output_type": "stream",
     "text": [
      "`stat_bin()` using `bins = 30`. Pick better value with `binwidth`.\n",
      "\n"
     ]
    },
    {
     "data": {
      "image/png": "[encoded data removed]",
      "text/plain": [
       "plot without title"
      ]
     },
     "metadata": {
      "image/png": {
       "height": 420,
       "width": 420
      }
     },
     "output_type": "display_data"
    }
   ],
   "source": [
    "ggplot(data = datos, mapping = aes(x = n_huevos, colour = condicion)) +\n",
    "    geom_histogram() +\n",
    "    theme_bw() +\n",
    "    facet_grid(. ~ condicion) +\n",
    "    theme(legend.position = \"none\")"
   ]
  },
  {
   "cell_type": "markdown",
   "metadata": {},
   "source": [
    "La representación gráfica de los datos muestra que las muestras no se distribuyen de forma normal, lo que supone una limitación para emplear un test ANOVA. Las tres muestras presentan el mismo tipo de distribución, asimetría hacia la derecha, a falta de comprobar la homogeneidad de varianza el test de Kruskal-Wallis es la opción más adecuada (otra alternativa serían las técnicas de resampling).\n",
    "\n",
    "\n",
    "**Condiciones**\n",
    "\n",
    "Homocedasticidad: la varianza debe de ser constante entre todos los grupos."
   ]
  },
  {
   "cell_type": "code",
   "execution_count": 7,
   "metadata": {},
   "outputs": [
    {
     "name": "stderr",
     "output_type": "stream",
     "text": [
      "Loading required package: carData\n",
      "\n"
     ]
    },
    {
     "data": {
      "text/html": [
       "<table class=\"dataframe\">\n",
       "<caption>A anova: 2 × 3</caption>\n",
       "<thead>\n",
       "\t<tr><th></th><th scope=col>Df</th><th scope=col>F value</th><th scope=col>Pr(&gt;F)</th></tr>\n",
       "\t<tr><th></th><th scope=col>&lt;int&gt;</th><th scope=col>&lt;dbl&gt;</th><th scope=col>&lt;dbl&gt;</th></tr>\n",
       "</thead>\n",
       "<tbody>\n",
       "\t<tr><th scope=row>group</th><td> 2</td><td>0.7929454</td><td>0.458009</td></tr>\n",
       "\t<tr><th scope=row> </th><td>51</td><td>       NA</td><td>      NA</td></tr>\n",
       "</tbody>\n",
       "</table>\n"
      ],
      "text/latex": [
       "A anova: 2 × 3\n",
       "\\begin{tabular}{r|lll}\n",
       "  & Df & F value & Pr(>F)\\\\\n",
       "  & <int> & <dbl> & <dbl>\\\\\n",
       "\\hline\n",
       "\tgroup &  2 & 0.7929454 & 0.458009\\\\\n",
       "\t  & 51 &        NA &       NA\\\\\n",
       "\\end{tabular}\n"
      ],
      "text/markdown": [
       "\n",
       "A anova: 2 × 3\n",
       "\n",
       "| <!--/--> | Df &lt;int&gt; | F value &lt;dbl&gt; | Pr(&gt;F) &lt;dbl&gt; |\n",
       "|---|---|---|---|\n",
       "| group |  2 | 0.7929454 | 0.458009 |\n",
       "| <!----> | 51 |        NA |       NA |\n",
       "\n"
      ],
      "text/plain": [
       "      Df F value   Pr(>F)  \n",
       "group  2 0.7929454 0.458009\n",
       "      51        NA       NA"
      ]
     },
     "metadata": {},
     "output_type": "display_data"
    }
   ],
   "source": [
    "library(car)\n",
    "leveneTest(n_huevos ~ condicion, data = datos, center = \"median\")"
   ]
  },
  {
   "cell_type": "markdown",
   "metadata": {},
   "source": [
    "**Ahora empleamos el test de Kruskal-Wallis**\n",
    "\n",
    "El test encuentra significancia en la diferencia de al menos dos grupos."
   ]
  },
  {
   "cell_type": "code",
   "execution_count": 8,
   "metadata": {},
   "outputs": [
    {
     "data": {
      "text/plain": [
       "\n",
       "\tKruskal-Wallis rank sum test\n",
       "\n",
       "data:  n_huevos by condicion\n",
       "Kruskal-Wallis chi-squared = 19.964, df = 2, p-value = 4.623e-05\n"
      ]
     },
     "metadata": {},
     "output_type": "display_data"
    }
   ],
   "source": [
    "kruskal.test(n_huevos ~ condicion, data = datos)"
   ]
  },
  {
   "cell_type": "markdown",
   "metadata": {},
   "source": [
    "**Comparaciones post-hoc para saber que dos grupos difieren**\n",
    "\n",
    "Existen diferentes métodos de corrección del nivel de significancia, entre ellos destacan el de Bonferroni que es muy estricto y el de holm, este último parece ser más recomendado.\n",
    "\n",
    "*Las comparaciones por pares encuentran diferencias significativas entre todas las condiciones.*"
   ]
  },
  {
   "cell_type": "code",
   "execution_count": 9,
   "metadata": {},
   "outputs": [
    {
     "name": "stderr",
     "output_type": "stream",
     "text": [
      "Warning message in wilcox.test.default(xi, xj, paired = paired, ...):\n",
      "“cannot compute exact p-value with ties”\n",
      "Warning message in wilcox.test.default(xi, xj, paired = paired, ...):\n",
      "“cannot compute exact p-value with ties”\n"
     ]
    },
    {
     "data": {
      "text/plain": [
       "\n",
       "\tPairwise comparisons using Wilcoxon rank sum test \n",
       "\n",
       "data:  datos$n_huevos and datos$condicion \n",
       "\n",
       "           condicion1 condicion2\n",
       "condicion2 0.00029    -         \n",
       "condicion3 0.04795    0.00058   \n",
       "\n",
       "P value adjustment method: holm "
      ]
     },
     "metadata": {},
     "output_type": "display_data"
    }
   ],
   "source": [
    "pairwise.wilcox.test(x = datos$n_huevos, g = datos$condicion, p.adjust.method = \"holm\")"
   ]
  },
  {
   "cell_type": "markdown",
   "metadata": {},
   "source": [
    "**Cálculo de tamaño del efecto**\n",
    "\n",
    "Finalmente, para aquellas comparaciones que se consideren significativas se tiene que reportar el tamaño del efecto (no existe forma de calcular el tamaño del efecto para el test de Kruskal-Wallis en conjunto). En este caso se han realizado comparaciones con Mann-Whitney-wilcox (ver en capítulo dedicado a este test para saber cómo se calcula)."
   ]
  },
  {
   "cell_type": "code",
   "execution_count": 10,
   "metadata": {},
   "outputs": [
    {
     "ename": "ERROR",
     "evalue": "Error in loadNamespace(name): there is no package called ‘devtools’\n",
     "output_type": "error",
     "traceback": [
      "Error in loadNamespace(name): there is no package called ‘devtools’\nTraceback:\n",
      "1. devtools::session_info",
      "2. getExportedValue(pkg, name)",
      "3. asNamespace(ns)",
      "4. getNamespace(ns)",
      "5. loadNamespace(name)",
      "6. withRestarts(stop(cond), retry_loadNamespace = function() NULL)",
      "7. withOneRestart(expr, restarts[[1L]])",
      "8. doWithOneRestart(return(expr), restart)"
     ]
    }
   ],
   "source": [
    "sesion_info <- devtools::session_info()\n",
    "dplyr::select(\n",
    "    tibble::as_tibble(sesion_info$packages),\n",
    "    c(package, loadedversion, source)\n",
    ")"
   ]
  },
  {
   "cell_type": "markdown",
   "metadata": {},
   "source": [
    "## Test de Friedman\n",
    "\n",
    "El test de Friedman es la alternativa no paramétrica a la prueba ANOVA de una vía cuando los datos son dependientes (pareados). Se trata de una extensión de la prueba de los rangos con signo de Wilcoxon para más de dos grupos (basada en suma de rangos). Asumiendo ciertas simplificaciones, puede considerarse como una comparación entre las medianas de varios grupos.\n",
    "\n",
    "El test de Friedman es el test adecuado cuando los datos tienen un orden natural, (cuando para darles sentido tienen que estar ordenados) y además son pareados. Por ejemplo, si se quiere estudiar la diferencia en el rendimiento de un grupo de corredores dependiendo de la estación del año, se hace correr al mismo grupo de personas una vez en cada estación. Como resultado, se puede disponer de dos tipos de datos: los tiempos de cada participante (análisis con ANOVA pareado) o las posiciones en las que han terminado la carrera cada participante en cada una de las carreras (análisis con Friedman test).\n",
    "\n",
    "EL concepto es similar a la suma de rangos de Wilcoxon para dos grupos pero esta vez asignando los rangos dentro de cada fila (ya que hay más de dos medidas para cada individuo) y después haciendo la suma de rangos para cada columna.\n",
    "\n",
    "El test de Friedman genera un estadístico conocido como Fr o Q que se distribuye:\n",
    "\n",
    "- Si el número total de individuos (N) es mayor de 10, la distribución de Fr se aproxima a una distribución χ2 con k−1 grados de libertad (siendo k el número de grupos a comparar).\n",
    "\n",
    "- Si el número de individuos es menor de 10, se recurre a tablas con los valores de significancia para un test de Friedman."
   ]
  },
  {
   "cell_type": "markdown",
   "metadata": {},
   "source": [
    "### Comparaciones Post-Hoc\n",
    "\n",
    "Al igual que ocurre con un ANOVA, si el test de Friedman es significativo implica que, al menos dos grupos de entre los comparados, son significativamente diferentes, pero no indica cuales. Para saberlo es necesario compararlos todos entre ellos. Esto implica realizar una corrección del nivel de significancia para evitar incrementar el error de tipo I. Los dos métodos de comparación post-hoc más empleados para un test de Friedman son:\n",
    "\n",
    "- Test de rangos con signo de Wilcoxon entre cada par de grupos con corrección de significancia:\n",
    "   pairwise.wilcox.test( paried = TRUE ).\n",
    "\n",
    "- Tukey’s range test: en R existe la función friedmanmc() del paquete pgirmess."
   ]
  },
  {
   "cell_type": "markdown",
   "metadata": {},
   "source": [
    "## Tamaño del efecto\n",
    "\n",
    "No hay una manera general de calcular el tamaño del efecto de una prueba de Friedman. Lo que se suele hacer es calcular el tamaño del efecto sobre las parejas que hayan resultado significativamente distintas en el análisis post-hoc. Si las comparaciones post-hoc se hacen mediante la prueba de rangos con signo de Wilcoxon, se tendrá que calcular el efecto asociado a dicho test."
   ]
  },
  {
   "cell_type": "code",
   "execution_count": 11,
   "metadata": {},
   "outputs": [
    {
     "data": {
      "text/html": [
       "<table class=\"dataframe\">\n",
       "<caption>A data.frame: 6 × 3</caption>\n",
       "<thead>\n",
       "\t<tr><th></th><th scope=col>valoracion</th><th scope=col>hora</th><th scope=col>sujeto</th></tr>\n",
       "\t<tr><th></th><th scope=col>&lt;dbl&gt;</th><th scope=col>&lt;fct&gt;</th><th scope=col>&lt;fct&gt;</th></tr>\n",
       "</thead>\n",
       "<tbody>\n",
       "\t<tr><th scope=row>1</th><td>9</td><td>mañana</td><td>1</td></tr>\n",
       "\t<tr><th scope=row>2</th><td>5</td><td>tarde </td><td>1</td></tr>\n",
       "\t<tr><th scope=row>3</th><td>2</td><td>noche </td><td>1</td></tr>\n",
       "\t<tr><th scope=row>4</th><td>6</td><td>mañana</td><td>2</td></tr>\n",
       "\t<tr><th scope=row>5</th><td>3</td><td>tarde </td><td>2</td></tr>\n",
       "\t<tr><th scope=row>6</th><td>1</td><td>noche </td><td>2</td></tr>\n",
       "</tbody>\n",
       "</table>\n"
      ],
      "text/latex": [
       "A data.frame: 6 × 3\n",
       "\\begin{tabular}{r|lll}\n",
       "  & valoracion & hora & sujeto\\\\\n",
       "  & <dbl> & <fct> & <fct>\\\\\n",
       "\\hline\n",
       "\t1 & 9 & mañana & 1\\\\\n",
       "\t2 & 5 & tarde  & 1\\\\\n",
       "\t3 & 2 & noche  & 1\\\\\n",
       "\t4 & 6 & mañana & 2\\\\\n",
       "\t5 & 3 & tarde  & 2\\\\\n",
       "\t6 & 1 & noche  & 2\\\\\n",
       "\\end{tabular}\n"
      ],
      "text/markdown": [
       "\n",
       "A data.frame: 6 × 3\n",
       "\n",
       "| <!--/--> | valoracion &lt;dbl&gt; | hora &lt;fct&gt; | sujeto &lt;fct&gt; |\n",
       "|---|---|---|---|\n",
       "| 1 | 9 | mañana | 1 |\n",
       "| 2 | 5 | tarde  | 1 |\n",
       "| 3 | 2 | noche  | 1 |\n",
       "| 4 | 6 | mañana | 2 |\n",
       "| 5 | 3 | tarde  | 2 |\n",
       "| 6 | 1 | noche  | 2 |\n",
       "\n"
      ],
      "text/plain": [
       "  valoracion hora   sujeto\n",
       "1 9          mañana 1     \n",
       "2 5          tarde  1     \n",
       "3 2          noche  1     \n",
       "4 6          mañana 2     \n",
       "5 3          tarde  2     \n",
       "6 1          noche  2     "
      ]
     },
     "metadata": {},
     "output_type": "display_data"
    }
   ],
   "source": [
    "valoracion <- c(9, 5, 2, 6, 3, 1, 5, 5, 5, 11, 5, 1, 8, 4, 3, 10, 4, 1, 7, 3, 4)\n",
    "hora <- factor(rep(c(\"mañana\", \"tarde\", \"noche\"), 7))\n",
    "sujeto <- factor(rep(1:7, each = 3))\n",
    "datos <- data.frame(valoracion, hora, sujeto)\n",
    "head(datos)"
   ]
  },
  {
   "cell_type": "code",
   "execution_count": 12,
   "metadata": {},
   "outputs": [
    {
     "data": {
      "text/plain": [
       "datos$hora: mañana\n",
       "[1] 8\n",
       "------------------------------------------------------------ \n",
       "datos$hora: noche\n",
       "[1] 2\n",
       "------------------------------------------------------------ \n",
       "datos$hora: tarde\n",
       "[1] 4"
      ]
     },
     "metadata": {},
     "output_type": "display_data"
    }
   ],
   "source": [
    "by(data = datos$valoracion, INDICES = datos$hora, FUN = median)"
   ]
  },
  {
   "cell_type": "code",
   "execution_count": 13,
   "metadata": {},
   "outputs": [
    {
     "data": {
      "image/png": "[encoded data removed]",
      "text/plain": [
       "plot without title"
      ]
     },
     "metadata": {
      "image/png": {
       "height": 420,
       "width": 420
      }
     },
     "output_type": "display_data"
    }
   ],
   "source": [
    "library(ggplot2)\n",
    "ggplot(data = datos, mapping = aes(x = hora, y = valoracion, colour = hora)) +\n",
    "    geom_boxplot() +\n",
    "    theme_bw() +\n",
    "    theme(legend.position = \"none\")"
   ]
  },
  {
   "cell_type": "code",
   "execution_count": 14,
   "metadata": {},
   "outputs": [
    {
     "data": {
      "text/plain": [
       "\n",
       "\tFriedman rank sum test\n",
       "\n",
       "data:  valoracion, hora and sujeto\n",
       "Friedman chi-squared = 10.333, df = 2, p-value = 0.005704\n"
      ]
     },
     "metadata": {},
     "output_type": "display_data"
    }
   ],
   "source": [
    "friedman.test(valoracion, hora, sujeto)"
   ]
  },
  {
   "cell_type": "markdown",
   "metadata": {},
   "source": [
    "El test encuentra diferencias significativas entre al menos dos grupos. Para saber cuáles son, se realizan comparaciones dos a dos empleando el test de Wilcoxon rangos con signo.\n",
    "\n",
    "**Comparaciones múltiples**\n",
    "\n",
    "A pesar de que el test de Friedman resulta significativo, las comparaciones por pares mediante wilcox test con corrección de holm no encuentran ninguna diferencia significativa."
   ]
  },
  {
   "cell_type": "code",
   "execution_count": 15,
   "metadata": {},
   "outputs": [
    {
     "name": "stderr",
     "output_type": "stream",
     "text": [
      "Warning message in wilcox.test.default(xi, xj, paired = paired, ...):\n",
      "“cannot compute exact p-value with ties”\n",
      "Warning message in wilcox.test.default(xi, xj, paired = paired, ...):\n",
      "“cannot compute exact p-value with zeroes”\n",
      "Warning message in wilcox.test.default(xi, xj, paired = paired, ...):\n",
      "“cannot compute exact p-value with ties”\n",
      "Warning message in wilcox.test.default(xi, xj, paired = paired, ...):\n",
      "“cannot compute exact p-value with zeroes”\n",
      "Warning message in wilcox.test.default(xi, xj, paired = paired, ...):\n",
      "“cannot compute exact p-value with ties”\n",
      "Warning message in wilcox.test.default(xi, xj, paired = paired, ...):\n",
      "“cannot compute exact p-value with zeroes”\n"
     ]
    },
    {
     "data": {
      "text/plain": [
       "\n",
       "\tPairwise comparisons using Wilcoxon signed rank test \n",
       "\n",
       "data:  datos$valoracion and datos$hora \n",
       "\n",
       "      mañana noche\n",
       "noche 0.1    -    \n",
       "tarde 0.1    0.1  \n",
       "\n",
       "P value adjustment method: holm "
      ]
     },
     "metadata": {},
     "output_type": "display_data"
    }
   ],
   "source": [
    "pairwise.wilcox.test(datos$valoracion, datos$hora, paired = TRUE, p.adjust.method = \"holm\")"
   ]
  },
  {
   "cell_type": "markdown",
   "metadata": {},
   "source": [
    "## Test de Wilcoxon Mann Whitney como alternativa al t-test\n",
    "\n",
    "En este capítulo se hace una comparativa entre el test estadístico no paramétrico Mann–Whitney–Wilcoxon y el t-test.\n",
    "\n",
    "El t-test es un test estadístico paramétrico que permite contrastar la hipótesis nula de que las medias de dos poblaciones son iguales, frente a la hipótesis alternativa de que no lo son.\n",
    "\n",
    "A pesar de la sencillez y utilidad del t-test, para que sus resultados sean válidos es necesario que se cumplan una serie de condiciones, entre las que se encuentran:\n",
    "\n",
    "- Independencia: Las observaciones tienen que ser independientes las unas de las otras. Para ello, el muestreo debe ser aleatorio y el tamaño de la muestra inferior al 10% de la población. (Existe una adaptación de t-test para datos pareados)\n",
    "\n",
    "- Normalidad: Las poblaciones que se comparan tienen que seguir una distribución normal. Si bien la condición de normalidad recae sobre las poblaciones, no se suele disponer de información sobre ellas, por lo que se emplean las muestras (dado que son reflejo de la población) para determinarlo. En caso de cierta asimetría, los t-test son considerablemente robustos si el tamaño de las muestras es mayor o igual a 30.\n",
    "\n",
    "- Igualdad de varianza (homocedasticidad): la varianza de las poblaciones comparadas debe de ser igual. Tal como ocurre con la condición de normalidad, si no se dispone de información de las poblaciones, esta condición se ha de asumir a partir de las muestras. En caso de no cumplirse esta condición se puede emplear un Welch Two Sample t-test, que incorpora una corrección a través de los grados de libertad que compensa la diferencia de varianzas, con el inconveniente de que pierde poder estadístico."
   ]
  },
  {
   "cell_type": "markdown",
   "metadata": {},
   "source": [
    "### Evaluación del t-test con distribuciones no normales para distintos tamaños muestrales\n",
    "\n",
    "Una de las principales razones que por las que los investigadores descartan la utilización del t-test es por la falta de normalidad en la distribución de las muestras. Si bien es cierto que el t-test requiere como condición que las poblaciones de origen sigan una distribución normal, a medida que se incrementa el tamaño de las muestras se vuelve menos sensible al no cumplimiento de esta condición. En el siguiente ejemplo se simulan dos poblaciones con la misma media, una de las cuales tiene mucha asimetría, y se evalúa el resultado de un t-test para diferentes tamaños muestrales."
   ]
  },
  {
   "cell_type": "code",
   "execution_count": 16,
   "metadata": {},
   "outputs": [
    {
     "data": {
      "image/png": "[encoded data removed]",
      "text/plain": [
       "Plot with title “Distribuciones lognormal y normal con misma media”"
      ]
     },
     "metadata": {
      "image/png": {
       "height": 420,
       "width": 420
      }
     },
     "output_type": "display_data"
    }
   ],
   "source": [
    "x <- seq(0, 10, length = 1000)\n",
    "y <- dlnorm(x = x, meanlog = 0.5, sdlog = 1)\n",
    "plot(x, y,\n",
    "    type = \"l\", lty = 1, xlab = \"x\", col = \"blue\", ylab = \"Densidad\",\n",
    "    main = \"Distribuciones lognormal y normal con misma media\",\n",
    "    xlim = c(-2, 10)\n",
    ")\n",
    "x_2 <- seq(-2, 10, length = 1000)\n",
    "y_2 <- dnorm(x = x_2, mean = 2.718282, sd = 1)\n",
    "lines(x_2, y_2, col = \"red\")\n",
    "legend(\"topright\",\n",
    "    legend = c(\"media lognormal = 2.72\", \"media normal = 2.72\"),\n",
    "    col = c(\"blue\", \"red\"), lty = 1, cex = 0.7\n",
    ")"
   ]
  },
  {
   "cell_type": "markdown",
   "metadata": {},
   "source": [
    "Para los tamaños muestrales 5, 10, 20, 30, 50, 100, 200, 300, 500 se extraen 1000 observaciones y se identifica el porcentaje test que se considerarían significativos para un nivel de significancia α=0.05. El nivel basal esperado es del 5%."
   ]
  },
  {
   "cell_type": "code",
   "execution_count": 17,
   "metadata": {},
   "outputs": [
    {
     "data": {
      "text/html": [
       "<style>\n",
       ".dl-inline {width: auto; margin:0; padding: 0}\n",
       ".dl-inline>dt, .dl-inline>dd {float: none; width: auto; display: inline-block}\n",
       ".dl-inline>dt::after {content: \":\\0020\"; padding-right: .5ex}\n",
       ".dl-inline>dt:not(:first-of-type) {padding-left: .5ex}\n",
       "</style><dl class=dl-inline><dt>5</dt><dd>14.9</dd><dt>10</dt><dd>12.5</dd><dt>20</dt><dd>13.2</dd><dt>30</dt><dd>7.8</dd><dt>50</dt><dd>8</dd><dt>100</dt><dd>7.8</dd><dt>200</dt><dd>6.3</dd><dt>300</dt><dd>6.3</dd><dt>500</dt><dd>6.4</dd></dl>\n"
      ],
      "text/latex": [
       "\\begin{description*}\n",
       "\\item[5] 14.9\n",
       "\\item[10] 12.5\n",
       "\\item[20] 13.2\n",
       "\\item[30] 7.8\n",
       "\\item[50] 8\n",
       "\\item[100] 7.8\n",
       "\\item[200] 6.3\n",
       "\\item[300] 6.3\n",
       "\\item[500] 6.4\n",
       "\\end{description*}\n"
      ],
      "text/markdown": [
       "5\n",
       ":   14.910\n",
       ":   12.520\n",
       ":   13.230\n",
       ":   7.850\n",
       ":   8100\n",
       ":   7.8200\n",
       ":   6.3300\n",
       ":   6.3500\n",
       ":   6.4\n",
       "\n"
      ],
      "text/plain": [
       "   5   10   20   30   50  100  200  300  500 \n",
       "14.9 12.5 13.2  7.8  8.0  7.8  6.3  6.3  6.4 "
      ]
     },
     "metadata": {},
     "output_type": "display_data"
    }
   ],
   "source": [
    "test_significativos <- vector(mode = \"numeric\")\n",
    "tamanyo_muestral <- c(5, 10, 20, 30, 50, 100, 200, 300, 500)\n",
    "for(i in tamanyo_muestral){\n",
    "  p_values <- rep(NA, 1000)\n",
    "  for(j in 1:1000) {\n",
    "    muestra_a <- rlnorm(n = i, meanlog =  0.5, sdlog = 1)\n",
    "    muestra_b <- rnorm(n = i, mean = 2.718282, sd = 1)\n",
    "    p_values[j] <- t.test(muestra_a, muestra_b, var.equal = FALSE)$p.value\n",
    "  }\n",
    "test_significativos <- c(test_significativos, mean(p_values < 0.05)*100)\n",
    "}\n",
    "names(test_significativos) <- c(5, 10, 20, 30, 50, 100, 200, 300, 500)\n",
    "test_significativos"
   ]
  },
  {
   "cell_type": "code",
   "execution_count": 18,
   "metadata": {},
   "outputs": [
    {
     "data": {
      "image/png": "[encoded data removed]",
      "text/plain": [
       "plot without title"
      ]
     },
     "metadata": {
      "image/png": {
       "height": 420,
       "width": 420
      }
     },
     "output_type": "display_data"
    }
   ],
   "source": [
    "plot(\n",
    "    x = tamanyo_muestral, y = test_significativos, type = \"b\", ylim = c(0, 20),\n",
    "    ylab = \"% de test significativos\", xlab = \"tamaño muestral\"\n",
    ")\n",
    "abline(h = 5, col = \"firebrick\")"
   ]
  },
  {
   "cell_type": "markdown",
   "metadata": {},
   "source": [
    "La simulación muestra que, debido a la pronunciada desviación respecto de la normalidad que presenta una de las poblaciones, para tamaños muestrales por debajo de 100 observaciones el % de test que resultan significativos está bastante por encima del nivel basal, lo que da lugar a demasiados falsos positivos. A partir de 100 observaciones, el % de test significativos se aproxima al nivel basal teórico (5%), por lo que la capacidad del t-test pasa a ser buena."
   ]
  },
  {
   "cell_type": "markdown",
   "metadata": {},
   "source": [
    "### Mann Whitney Wilcoxon\n",
    "\n",
    "El test de Mann–Whitney–Wilcoxon (WMW), también conocido como Wilcoxon rank-sum test o u-test, es un test no paramétrico que contrasta si dos muestras proceden de poblaciones equidistribuidas.\n",
    "\n",
    "La idea en la que se fundamenta este test es la siguiente: si las dos muestras comparadas proceden de la misma población, al juntar todas las observaciones y ordenarlas de menor a mayor, cabría esperar que las observaciones de una y otra muestra estuviesen intercaladas aleatoriamente. Por lo contrario, si una de las muestras pertenece a una población con valores mayores o menores que la otra población, al ordenar las observaciones, estas tenderán a agruparse de modo que las de una muestra queden por encima de las de la otra."
   ]
  },
  {
   "cell_type": "code",
   "execution_count": 19,
   "metadata": {},
   "outputs": [
    {
     "data": {
      "image/png": "[encoded data removed]",
      "text/plain": [
       "plot without title"
      ]
     },
     "metadata": {
      "image/png": {
       "height": 420,
       "width": 420
      }
     },
     "output_type": "display_data"
    }
   ],
   "source": [
    "library(ggplot2)\n",
    "set.seed(567)\n",
    "datos <- data.frame(muestra = rep(c(\"A\", \"B\"), each = 10),\n",
    "valor = rnorm(n = 20, mean = 10, sd = 5),\n",
    "cordenada_y = rep(0, 20))\n",
    "\n",
    "ggplot(data = datos, aes(x = valor, y = cordenada_y)) +\n",
    "geom_point(aes(colour = muestra), size = 3) +\n",
    "ylab(\"\") + xlab(\"rango\") +\n",
    "theme_bw() +\n",
    "theme(axis.text.y = element_blank()) + \n",
    "ggtitle(\"Muestras procedentes de la misma población\")"
   ]
  },
  {
   "cell_type": "code",
   "execution_count": 20,
   "metadata": {},
   "outputs": [
    {
     "data": {
      "image/png": "[encoded data removed]",
      "text/plain": [
       "plot without title"
      ]
     },
     "metadata": {
      "image/png": {
       "height": 420,
       "width": 420
      }
     },
     "output_type": "display_data"
    }
   ],
   "source": [
    "set.seed(567)\n",
    "datos <- data.frame(\n",
    "    muestra = rep(c(\"A\", \"B\"), each = 10),\n",
    "    valor = c(rnorm(n = 10, mean = 10, sd = 5), rnorm(n = 10, mean = 20, sd = 5)),\n",
    "    cordenada_y = rep(0, 20)\n",
    ")\n",
    "\n",
    "ggplot(data = datos, aes(x = valor, y = cordenada_y)) +\n",
    "    geom_point(aes(colour = muestra), size = 3) +\n",
    "    ylab(\"\") +\n",
    "    xlab(\"rango\") +\n",
    "    theme_bw() +\n",
    "    theme(axis.text.y = element_blank()) +\n",
    "    ggtitle(\"Muestras procedentes de distintas poblaciones\")"
   ]
  },
  {
   "cell_type": "markdown",
   "metadata": {},
   "source": [
    "Acorde a esta idea, el test de Mann–Whitney–Wilcoxon contrasta que la probabilidad de que una observación de la población X supere a una observación de la población Y es igual a la probabilidad de que una observación de la población Y supere a una de la población X. Es decir, que los valores de una población no tienden a ser mayores que los de otra.\n",
    "\n",
    "\n",
    "$$ H_{0} : P(X > Y) = P(Y > X) $$\n",
    "$$ H_{0} : P(X > Y) = 0.5 $$\n",
    "$$ H_{1} : P(X > Y) != P(Y > X) $$\n",
    "$$ H_{1} : P(X > Y) != 0.5 $$\n",
    "\n",
    "Es común encontrar mencionado que el test de Mann–Whitney–Wilcoxon compara medianas, sin embargo, esto solo es cierto cuando las poblaciones comparadas difieren únicamente es su localización, pero el resto de características (dispersión, asimetría…) son iguales.\n",
    "\n",
    "Al igual que ocurre con muchos test no paramétricos, el test de Mann–Whitney–Wilcoxon es menos potente que el t-test (tienen menos probabilidad de rechazar la H0 cuando realmente es falsa) ya que ignora valores extremos. En el caso de los t-test, al trabajar con medias, si los tienen en cuenta. Esto hace a su vez que el test de Mann–Whitney–Wilcoxon sea una prueba más robusta que los t-test. En concreto, la perdida de potencia es del 5%."
   ]
  },
  {
   "cell_type": "markdown",
   "metadata": {},
   "source": [
    "### Condiciones necesarias del test de Mann–Whitney–Wilcoxon\n",
    "\n",
    "- Los datos tienen que ser independientes.\n",
    "- Los datos tienen que ser ordinales o bien se tienen que poder ordenar de menor a mayor.\n",
    "- No es necesario asumir que las muestras se distribuyen de forma normal o que proceden de poblaciones normales. Pero, para que el test compare medianas, ambas han de tener el mismo tipo de distribución (varianza, asimetría…).\n",
    "- Igualdad de varianza entre grupos (homocedasticidad)."
   ]
  },
  {
   "cell_type": "markdown",
   "metadata": {},
   "source": [
    "Supóngase que se dispone de dos muestras, de las que no se conoce el tipo de distribución de las poblaciones de origen y cuyo tamaño es demasiado pequeño para determinar si siguen una distribución normal. ¿Existe una diferencia significativa entre poblaciones? Se emplea un ejemplo con muestras pequeñas para poder ilustrar fácilmente los pasos, no significa que con muestras tan pequeñas el test de Mann–Whitney–Wilcoxon sea preciso."
   ]
  },
  {
   "cell_type": "code",
   "execution_count": 21,
   "metadata": {},
   "outputs": [
    {
     "data": {
      "text/plain": [
       "\n",
       "\tFligner-Killeen test of homogeneity of variances\n",
       "\n",
       "data:  list(muestraX, muestraY)\n",
       "Fligner-Killeen:med chi-squared = 0.07201, df = 1, p-value = 0.7884\n"
      ]
     },
     "metadata": {},
     "output_type": "display_data"
    }
   ],
   "source": [
    "muestraX <- c(1.1, 3.4, 4.3, 2.1, 7.0, 2.5)\n",
    "muestraY <- c(7.0, 8.0, 3.0, 5.0, 6.2, 4.4)\n",
    "\n",
    "fligner.test(x = list(muestraX, muestraY))"
   ]
  },
  {
   "cell_type": "markdown",
   "metadata": {},
   "source": [
    "No hay evidencias en contra de la igualdad de varianzas.\n",
    "\n",
    "Una vez comprobadas las condiciones necesarias para que el test de Mann–Whitney–Wilcoxon sea válido se procede a calcular su estadístico, p-value asociado y tamaño de efecto.\n",
    "\n",
    "**Ordenación de las observaciones**\n",
    "\n",
    "Se juntan todas las observaciones, se ordenan y se les asigna un número de posición, siendo la posición 1 para el valor más pequeño. En caso de haber valores repetidos, fenómeno conocido como ligadura o ties, se les asigna como valor de posición la media de las posiciones que ocupan. En este caso, el valor “7.0” está repetido dos veces, por lo que en lugar de asignarles “10” y “11”, se les asigna “10.5” a cada uno."
   ]
  },
  {
   "cell_type": "code",
   "execution_count": 22,
   "metadata": {},
   "outputs": [
    {
     "data": {
      "text/html": [
       "<table class=\"dataframe\">\n",
       "<caption>A matrix: 12 × 2 of type dbl</caption>\n",
       "<thead>\n",
       "\t<tr><th scope=col>observaciones</th><th scope=col>rango_observaciones</th></tr>\n",
       "</thead>\n",
       "<tbody>\n",
       "\t<tr><td>1.1</td><td> 1.0</td></tr>\n",
       "\t<tr><td>2.1</td><td> 2.0</td></tr>\n",
       "\t<tr><td>2.5</td><td> 3.0</td></tr>\n",
       "\t<tr><td>3.0</td><td> 4.0</td></tr>\n",
       "\t<tr><td>3.4</td><td> 5.0</td></tr>\n",
       "\t<tr><td>4.3</td><td> 6.0</td></tr>\n",
       "\t<tr><td>4.4</td><td> 7.0</td></tr>\n",
       "\t<tr><td>5.0</td><td> 8.0</td></tr>\n",
       "\t<tr><td>6.2</td><td> 9.0</td></tr>\n",
       "\t<tr><td>7.0</td><td>10.5</td></tr>\n",
       "\t<tr><td>7.0</td><td>10.5</td></tr>\n",
       "\t<tr><td>8.0</td><td>12.0</td></tr>\n",
       "</tbody>\n",
       "</table>\n"
      ],
      "text/latex": [
       "A matrix: 12 × 2 of type dbl\n",
       "\\begin{tabular}{ll}\n",
       " observaciones & rango\\_observaciones\\\\\n",
       "\\hline\n",
       "\t 1.1 &  1.0\\\\\n",
       "\t 2.1 &  2.0\\\\\n",
       "\t 2.5 &  3.0\\\\\n",
       "\t 3.0 &  4.0\\\\\n",
       "\t 3.4 &  5.0\\\\\n",
       "\t 4.3 &  6.0\\\\\n",
       "\t 4.4 &  7.0\\\\\n",
       "\t 5.0 &  8.0\\\\\n",
       "\t 6.2 &  9.0\\\\\n",
       "\t 7.0 & 10.5\\\\\n",
       "\t 7.0 & 10.5\\\\\n",
       "\t 8.0 & 12.0\\\\\n",
       "\\end{tabular}\n"
      ],
      "text/markdown": [
       "\n",
       "A matrix: 12 × 2 of type dbl\n",
       "\n",
       "| observaciones | rango_observaciones |\n",
       "|---|---|\n",
       "| 1.1 |  1.0 |\n",
       "| 2.1 |  2.0 |\n",
       "| 2.5 |  3.0 |\n",
       "| 3.0 |  4.0 |\n",
       "| 3.4 |  5.0 |\n",
       "| 4.3 |  6.0 |\n",
       "| 4.4 |  7.0 |\n",
       "| 5.0 |  8.0 |\n",
       "| 6.2 |  9.0 |\n",
       "| 7.0 | 10.5 |\n",
       "| 7.0 | 10.5 |\n",
       "| 8.0 | 12.0 |\n",
       "\n"
      ],
      "text/plain": [
       "      observaciones rango_observaciones\n",
       " [1,] 1.1            1.0               \n",
       " [2,] 2.1            2.0               \n",
       " [3,] 2.5            3.0               \n",
       " [4,] 3.0            4.0               \n",
       " [5,] 3.4            5.0               \n",
       " [6,] 4.3            6.0               \n",
       " [7,] 4.4            7.0               \n",
       " [8,] 5.0            8.0               \n",
       " [9,] 6.2            9.0               \n",
       "[10,] 7.0           10.5               \n",
       "[11,] 7.0           10.5               \n",
       "[12,] 8.0           12.0               "
      ]
     },
     "metadata": {},
     "output_type": "display_data"
    }
   ],
   "source": [
    "# unión de las muestras y ordenación\n",
    "\n",
    "observaciones <- sort(c(muestraX, muestraY))\n",
    "\n",
    "# La función rank() de R calcula las posiciones automáticamente,\n",
    "# solucionando las ligaduras en caso de que las haya.\n",
    "\n",
    "rango_observaciones <- rank(observaciones)\n",
    "observaciones <- cbind(observaciones, rango_observaciones)\n",
    "observaciones"
   ]
  },
  {
   "cell_type": "markdown",
   "metadata": {},
   "source": [
    "**Calculo del estadistico U**\n",
    "\n",
    "$$ U = \\min(U_{1}, U_{2}) $$ \n",
    "\n",
    "siendo U1 y U2 los valores estadísticos de U Mann-Whitney:\n",
    "\n",
    "$$ U_{1} = n_{1}n_{2} + n1(n1+1)/2 - R_{1}$$\n",
    "\n",
    "$$ U_{1} = n_{1}n_{2} + n2(n2+1)/2 - R_{2}$$\n",
    "\n",
    "- n1 = tamaño de la muestra del grupo 1\n",
    "- n2 = tamaño de la muestra del grupo 2\n",
    "- R1 = sumatoria de los rangos del grupo 1\n",
    "- R2 = sumatoria de los rangos del grupo 2"
   ]
  },
  {
   "cell_type": "code",
   "execution_count": 23,
   "metadata": {},
   "outputs": [
    {
     "data": {
      "text/html": [
       "6.5"
      ],
      "text/latex": [
       "6.5"
      ],
      "text/markdown": [
       "6.5"
      ],
      "text/plain": [
       "[1] 6.5"
      ]
     },
     "metadata": {},
     "output_type": "display_data"
    }
   ],
   "source": [
    "R1 <- sum(1, 5, 6, 2, 10.5, 3)\n",
    "R2 <- sum(10.5, 12, 4, 8, 9, 7)\n",
    "n1 <- length(muestraX)\n",
    "n2 <- length(muestraY)\n",
    "U1 <- (n1 * n2) + (n1 * (n1 + 1) / 2) - R1\n",
    "U2 <- (n1 * n2) + (n2 * (n2 + 1) / 2) - R2\n",
    "U <- min(c(U1, U2))\n",
    "U"
   ]
  },
  {
   "cell_type": "markdown",
   "metadata": {},
   "source": [
    "**Calculo de p-value**\n",
    "\n",
    "Una vez ha obtenido el valor del estadístico U se puede calcular cual es la probabilidad de que adquiera un valor igual o más extremo que el observado. Si el tamaño de las muestras es inferior a 10, se compara el valor obtenido de U con los valores de una tabla U de Mann-Whitney. Si el U es menor que el valor correspondiente en la tabla, la diferencia es significativa. En este caso, el valor de la tabla para α=0.05, n1=6 y n2=6 es de 5. Dado que U obtenido es >5 no se considera significativa la diferencia. Si n1>10 y n2>10 se puede asumir que U se distribuye de forma aproximadamente normal, rechazando H0 si Z calculado es mayor que el valor de Z para el α elegido (este es método utilizado por defecto en R).\n",
    "\n",
    "$$ Z = U - (n_{1}n_{2}/2)/ \\sqrt(n_{1}n_{2}(n_{1}+n_{2}+1)/12) $$ \n",
    "se distribuye como Normal Estandar"
   ]
  },
  {
   "cell_type": "markdown",
   "metadata": {},
   "source": [
    "**Cálculo del tamaño del efeto (side effect)**\n",
    "\n",
    "Como en todo test estadístico, no solo hay que indicar el p-value sino también el tamaño del efecto observado, ya que esto permitirá saber si, además de significativa, la diferencia es práctica. El tamaño del efecto para un test de Mann–Whitney–Wilcoxon se calcula a partir del Z-factor (es necesario haber asumido que U se distribuye ~ Normal).\n",
    "\n",
    "$$ r = abs(Z/\\sqrt(N)) $$\n",
    "\n",
    "Donde N es la suma de n_{1} y n_{2}. Una de las clasificaciones del tamaño más utilizada es:\n",
    "\n",
    "- 0.1 = pequeño\n",
    "- 0.3 = mediano\n",
    "- => 0.5 = grande "
   ]
  },
  {
   "cell_type": "code",
   "execution_count": 24,
   "metadata": {},
   "outputs": [
    {
     "name": "stderr",
     "output_type": "stream",
     "text": [
      "Warning message in wilcox.test.default(x = muestraX, y = muestraY, alternative = \"two.sided\", :\n",
      "“cannot compute exact p-value with ties”\n",
      "Warning message in wilcox.test.default(x = muestraX, y = muestraY, alternative = \"two.sided\", :\n",
      "“cannot compute exact confidence intervals with ties”\n"
     ]
    },
    {
     "data": {
      "text/plain": [
       "\n",
       "\tWilcoxon rank sum test with continuity correction\n",
       "\n",
       "data:  muestraX and muestraY\n",
       "W = 6.5, p-value = 0.07765\n",
       "alternative hypothesis: true location shift is not equal to 0\n",
       "95 percent confidence interval:\n",
       " -4.9000274  0.4000139\n",
       "sample estimates:\n",
       "difference in location \n",
       "             -2.390035 \n"
      ]
     },
     "metadata": {},
     "output_type": "display_data"
    }
   ],
   "source": [
    "wilcox.test(x = muestraX, y = muestraY, alternative = \"two.sided\", mu = 0,\n",
    "            paired = FALSE, conf.int = 0.95)"
   ]
  },
  {
   "cell_type": "code",
   "execution_count": 25,
   "metadata": {},
   "outputs": [
    {
     "name": "stderr",
     "output_type": "stream",
     "text": [
      "Loading required package: survival\n",
      "\n"
     ]
    },
    {
     "data": {
      "text/plain": [
       "\n",
       "\tExact Wilcoxon-Mann-Whitney Test\n",
       "\n",
       "data:  valores by grupo (A, B)\n",
       "Z = -1.8447, p-value = 0.06926\n",
       "alternative hypothesis: true mu is not equal to 0\n",
       "95 percent confidence interval:\n",
       " -4.9  0.4\n",
       "sample estimates:\n",
       "difference in location \n",
       "                  -2.4 \n"
      ]
     },
     "metadata": {},
     "output_type": "display_data"
    }
   ],
   "source": [
    "library(coin)\n",
    "# La función wilcox.test() del paquete coin requiere pasarle los argumentos en\n",
    "# forma de función (~), por lo que los datos tienen que estar almacenados en\n",
    "# forma de data frame.\n",
    "datos <- data.frame(\n",
    "    grupo   = as.factor(rep(c(\"A\", \"B\"), c(6, 6))),\n",
    "    valores = c(muestraX, muestraY)\n",
    ")\n",
    "\n",
    "wilcox_test(valores ~ grupo, data = datos, distribution = \"exact\", conf.int = 0.95)"
   ]
  },
  {
   "cell_type": "code",
   "execution_count": 26,
   "metadata": {},
   "outputs": [
    {
     "data": {
      "text/html": [
       "0.53260562332743"
      ],
      "text/latex": [
       "0.53260562332743"
      ],
      "text/markdown": [
       "0.53260562332743"
      ],
      "text/plain": [
       "[1] 0.5326056"
      ]
     },
     "metadata": {},
     "output_type": "display_data"
    }
   ],
   "source": [
    "# La función devuelve el valor de Z, por lo que se puede calcular fácilmente el\n",
    "# tamaño del efecto\n",
    "tamanyo_efecto <- 1.845 / sqrt(n1 + n2)\n",
    "tamanyo_efecto"
   ]
  },
  {
   "cell_type": "markdown",
   "metadata": {},
   "source": [
    "**Resultado**\n",
    "\n",
    "La diferencia entre las probabilidades de que observaciones de una población superen a las de la otra no difiere de forma significativa (p-value = 0.06926). El tamaño del efecto observado es grande (0.53) pero no significativo."
   ]
  },
  {
   "cell_type": "markdown",
   "metadata": {},
   "source": [
    "### Comparación entre t-test y test de Mann–Whitney–Wilcoxon\n",
    "\n",
    "Una de las aplicaciones más frecuentes del test de Mann–Whitney–Wilcoxon es su uso como alternativa al t-test cuando las muestras no proceden de poblaciones con distribución normal (asimetría o colas) o porque tienen un tamaño demasiado reducido para poder afirmarlo. Es importante tener en cuenta que, aunque ambos test permiten realizar inferencia sobre la diferencia entre poblaciones, las hipótesis contrastadas no son las mismas. Mientras que el t-test siempre compara las medias de los grupos, el test de Mann–Whitney–Wilcoxon es menos específico. Si las distribuciones de las poblaciones subyacentes se diferencian únicamente en localización, entonces el test de Mann–Whitney–Wilcoxon compara medianas, para el resto de escenarios (poblaciones con distinta distribución, dispersión, asimetría…) contrasta si P(X>Y)=P(Y>X). En este segundo caso la interpretación de los p-values no es tan directa. Es debido a esta naturaleza flexible por lo que hay que ser cauteloso con el test de Mann–Whitney–Wilcoxon. Por ejemplo, si las dos muestras comparadas proceden de poblaciones con asimetrías en direcciones opuestas, a pesar de que tanto la media como la mediana sean exactamente las mismas en ambos grupos, el p-value obtenido puede ser muy bajo.\n",
    "\n",
    "En la práctica, el escenario en el que la única diferencia entre poblaciones es la localización es poco realista. Si las distribuciones tienen colas (asimetría) y las medias o medianas son distintas, es muy probable que las varianzas también lo sean. De hecho, la distribución normal es la única distribución estándar en la que la media y la varianza son independientes. Por lo tanto, si el test de Mann–Whitney–Wilcoxon se está aplicando por falta de normalidad y las medias-medianas no son iguales, lo más seguro es que no se cumpla con total rigurosidad la igualdad de varianzas. Es necesario evaluar estas características para poder determinar si el test de Mann–Whitney–Wilcoxon es suficientemente robusto para el estudio en cuestión.\n",
    "\n",
    "Cuando la hipótesis que se quiere contrastar tiene que ser exclusivamente la igualdad de medianas se puede recurrir a la regresión de cuantiles, en concreto al cuantil 0.5."
   ]
  },
  {
   "cell_type": "markdown",
   "metadata": {},
   "source": [
    "## Test de Mann–Whitney–Wilcoxon aplicado a muestras con asimetría opuesta"
   ]
  },
  {
   "cell_type": "code",
   "execution_count": 27,
   "metadata": {},
   "outputs": [
    {
     "data": {
      "image/png": "[encoded data removed]",
      "text/plain": [
       "Plot with title “”"
      ]
     },
     "metadata": {
      "image/png": {
       "height": 420,
       "width": 420
      }
     },
     "output_type": "display_data"
    }
   ],
   "source": [
    "grupo_a <- c(5, 5, 5, 5, 5, 5, 7, 8, 9, 10)\n",
    "grupo_b <- c(1, 2, 3, 4, 5, 5, 5, 5, 5, 5)\n",
    "par(mfrow = c(1, 2))\n",
    "hist(grupo_a, col = \"cyan4\", main = \"\")\n",
    "hist(grupo_b, col = \"firebrick\", main = \"\")"
   ]
  },
  {
   "cell_type": "markdown",
   "metadata": {},
   "source": [
    "En vista de que el tamaño muestral es pequeño y de que ambos grupos muestran una clara asimetría, el t-test queda descartado. Una posible alternativa es emplear el test de Mann–Whitney–Wilcoxon con la intención de comparar las medianas.\n",
    "\n",
    "El p-value obtenido indica claras evidencias en contra de la hipótesis nula de que las medianas de ambos grupos son iguales. Sin embargo, si se calculan las medianas de las muestras, el resultado es el mismo."
   ]
  },
  {
   "cell_type": "code",
   "execution_count": 28,
   "metadata": {},
   "outputs": [
    {
     "name": "stderr",
     "output_type": "stream",
     "text": [
      "Warning message in wilcox.test.default(grupo_a, grupo_b, paired = FALSE):\n",
      "“cannot compute exact p-value with ties”\n"
     ]
    },
    {
     "data": {
      "text/plain": [
       "\n",
       "\tWilcoxon rank sum test with continuity correction\n",
       "\n",
       "data:  grupo_a and grupo_b\n",
       "W = 82, p-value = 0.007196\n",
       "alternative hypothesis: true location shift is not equal to 0\n"
      ]
     },
     "metadata": {},
     "output_type": "display_data"
    }
   ],
   "source": [
    "wilcox.test(grupo_a, grupo_b, paired = FALSE)"
   ]
  },
  {
   "cell_type": "markdown",
   "metadata": {},
   "source": [
    "### Potencial problema del test de Mann–Whitney–Wilcoxon con tamaños muestrales grandes\n",
    "\n",
    "Suele recomendarse emplear el test de Mann–Whitney–Wilcoxon en lugar del t-test cuando los tamaños muestrales son pequeños y no se tiene evidencias de que las poblaciones de origen siguen una distribución normal. Si bien esta práctica está bastante fundamentada, no hay que confundirla con la de utilizar el test de Mann–Whitney–Wilcoxon como alternativa al t-test siempre que no se cumpla la normalidad y sin tener en cuenta el tamaño muestral. A medida que el número de observaciones aumenta, también lo hace la robustez del t-test frente a desviaciones de la normalidad. Por otro lado, el test de Mann–Whitney–Wilcoxon incrementa su sensibilidad a diferencias más allá de las medianas. Por ejemplo, aumenta el poder estadístico de detectar diferencias significativas en la probabilidad de que observaciones de un grupo superen a las del otro debido únicamente a diferencias en la dispersión de las poblaciones de origen y no porque sus medianas sean distintas. Si el objetivo del estudio es identificar cualquier diferencia distribucional, esto no supone un problema, pero si lo que se quiere comparar son las medianas, se obtendrán p-values que no se corresponden con la pregunta que el investigador quiere responder.\n",
    "\n",
    "Considérese dos muestras que proceden de dos poblaciones distintas, una con distribución normal y otra con distribución log-normal (asimetría derecha). Ambas poblaciones tienen la misma mediana pero claramente siguen distribuciones distintas."
   ]
  },
  {
   "cell_type": "code",
   "execution_count": 29,
   "metadata": {},
   "outputs": [
    {
     "data": {
      "image/png": "[encoded data removed]",
      "text/plain": [
       "Plot with title “Distribuciones lognormal y normal con misma mediana”"
      ]
     },
     "metadata": {
      "image/png": {
       "height": 420,
       "width": 420
      }
     },
     "output_type": "display_data"
    }
   ],
   "source": [
    "x <- seq(0, 5, length = 1000)\n",
    "y <- dlnorm(x = x, meanlog = 0.5, sdlog = 1.7)\n",
    "plot(x, y,\n",
    "    type = \"l\", lty = 1, xlab = \"x\", col = \"blue\", ylab = \"Densidad\",\n",
    "    main = \"Distribuciones lognormal y normal con misma mediana\", xlim = c(-5, 5)\n",
    ")\n",
    "x_2 <- seq(-5, 5, length = 1000)\n",
    "y_2 <- dnorm(x = x_2, mean = 1.648721, sd = 1)\n",
    "lines(x_2, y_2, col = \"red\")\n",
    "legend(\"topright\",\n",
    "    legend = c(\"mediana lognormal = 0.5\", \"mediana normal = 0.5\"),\n",
    "    col = c(\"blue\", \"red\"), lty = 1, cex = 0.7\n",
    ")"
   ]
  },
  {
   "cell_type": "code",
   "execution_count": 30,
   "metadata": {},
   "outputs": [
    {
     "data": {
      "image/png": "[encoded data removed]",
      "text/plain": [
       "Plot with title “”"
      ]
     },
     "metadata": {
      "image/png": {
       "height": 420,
       "width": 420
      }
     },
     "output_type": "display_data"
    }
   ],
   "source": [
    "# Supóngase ahora que el investigador, que desconoce la distribución real de las poblaciones, \n",
    "# obtiene dos muestras de 20 observaciones cada una.\n",
    "\n",
    "set.seed(888)\n",
    "muestra_a <- rlnorm(n = 20, meanlog = 0.5, sdlog = 1.7)\n",
    "muestra_b <- rnorm(n = 20, mean = 1.648721, sd = 1)\n",
    "par(mfrow = c(1, 2))\n",
    "hist(muestra_a, breaks = 10, main = \"\", col = \"blue\")\n",
    "hist(muestra_b, breaks = 10, main = \"\", col = \"firebrick\")"
   ]
  },
  {
   "cell_type": "markdown",
   "metadata": {},
   "source": [
    "En base a la falta de normalidad de la muestra a, el investigador considera que el t-test no es adecuado para comparar la localización de las poblaciones y decide que quiere comparar medianas con el test de Mann–Whitney–Wilcoxon."
   ]
  },
  {
   "cell_type": "code",
   "execution_count": 31,
   "metadata": {},
   "outputs": [
    {
     "data": {
      "text/plain": [
       "\n",
       "\tWilcoxon rank sum test\n",
       "\n",
       "data:  muestra_a and muestra_b\n",
       "W = 196, p-value = 0.9254\n",
       "alternative hypothesis: true location shift is not equal to 0\n"
      ]
     },
     "metadata": {},
     "output_type": "display_data"
    }
   ],
   "source": [
    "wilcox.test(muestra_a, muestra_b, paired = FALSE)"
   ]
  },
  {
   "cell_type": "markdown",
   "metadata": {},
   "source": [
    "El resultado le indica que no hay evidencias para considerar que la localización de las poblaciones es distinta y concluye que las medianas de ambas poblaciones son iguales.\n",
    "\n",
    "Véase lo que ocurre si el tamaño muestral se incrementa de 20 a 1000 observaciones."
   ]
  },
  {
   "cell_type": "code",
   "execution_count": 32,
   "metadata": {},
   "outputs": [
    {
     "data": {
      "text/plain": [
       "\n",
       "\tWilcoxon rank sum test with continuity correction\n",
       "\n",
       "data:  muestra_a and muestra_b\n",
       "W = 551900, p-value = 5.842e-05\n",
       "alternative hypothesis: true location shift is not equal to 0\n"
      ]
     },
     "metadata": {},
     "output_type": "display_data"
    }
   ],
   "source": [
    "set.seed(888)\n",
    "muestra_a <- rlnorm(n = 1000, meanlog = 0.5, sdlog = 1.7)\n",
    "muestra_b <- rnorm(n = 1000, mean = 1.648721, sd = 1)\n",
    "wilcox.test(muestra_a, muestra_b, paired = FALSE)"
   ]
  },
  {
   "cell_type": "markdown",
   "metadata": {},
   "source": [
    "En este caso, la conclusión obtenida es totalmente opuesta, hay muchas evidencias en contra de la hipótesis nula de que ambas poblaciones tienen la misma localización por lo que el investigador podría concluir erróneamente que las medianas de ambas poblaciones son distintas.\n",
    "\n",
    "Este ejemplo pone de manifiesto la importancia que tiene el tamaño muestral en la potencia del test de Mann–Whitney–Wilcoxon y la necesidad de entender que, si las distribuciones no son iguales a excepción de su localización, el test es muy sensible detectando diferencias en las distribuciones a pesar de que sus medianas sean las mismas. En este caso, el investigador solo podría concluir que hay evidencias de que la distribución de las dos poblaciones se diferencia en algún aspecto, pero no podría concretar cuál."
   ]
  },
  {
   "cell_type": "markdown",
   "metadata": {},
   "source": [
    "## Prueba de los rangos con signo de Wilcoxon\n",
    "\n",
    "El test no paramétrico prueba de los rangos con signo de Wilcoxon, también conocido como Wilcoxon signed-rank test, permite comparar poblaciones cuando sus distribuciones (normalmente interpretadas a partir de las muestras) no satisfacen las condiciones necesarias para otros test paramétricos. Es una alternativa al t-test de muestras dependientes cuando las muestras no siguen una distribución normal (muestran asimetría o colas) o cuando tienen un tamaño demasiado reducido para poder determinar si realmente proceden de poblaciones normales.\n",
    "\n",
    "A la hora de elegir entre t-test o Wilcoxon signed-rank test, es importante tener en cuenta que, el problema de las muestras pequeñas, no se soluciona con ninguno de los dos. Si el tamaño de las muestras es pequeño, también lo es la calidad de la inferencia que se puede hacer con ellas. Ahora bien, existen dos situaciones en las que, a priori, se puede recomendar utilizar un Wilcoxon signed-rank test antes que un t-test:\n",
    "\n",
    "- Si el tamaño de las muestras es suficientemente grande para determinar (por métodos gráficos o contrastes de hipótesis) que la distribución de las poblaciones a comparar no es de tipo normal, en tal caso, los t-test no son adecuados, por lo que mejor emplear un Wilcoxon signed-rank test (bootstrapping, regresión cuantílica, o test de permutación también podrían ser otras alternativa).\n",
    "- Si el tamaño de las muestras no permite determinar con seguridad si las poblaciones de las que proceden se distribuyen de forma normal, y no se dispone de información que pueda orientar sobre la naturaleza de las poblaciones de origen (estudios anteriores, que sea un tipo de variable que se sabe que se distribuye casi siempre de forma normal…), entonces es más apropiado el Wilcoxon signed-rank test ya que no requiere asumir la normalidad de las poblaciones."
   ]
  },
  {
   "cell_type": "markdown",
   "metadata": {},
   "source": [
    "### El test Wilcoxon signed-rank test presenta las siguientes características:\n",
    "\n",
    "- Es frecuente encontrar descrito que, el Wilcoxon signed-rank test, compara la mediana de las diferencias, sin embargo, esto solo es correcto bajo determinadas condiciones. A modo general, el Wilcoxon signed-rank test compara si las diferencias entre pares de datos siguen una distribución simétrica entorno a un valor. Si dos muestras proceden de la misma población, es de esperar que las diferencias entre cada par de observaciones se distribuyan de forma simétrica entorno al cero.\n",
    "\n",
    "- Trabaja sobre rangos de orden, es decir, utilizan las posiciones que ocupan los datos una vez ordenados. Por lo tanto, solo es aplicable a variables cuyos valores se pueden ordenar.\n",
    "\n",
    "- Tienen menos poder estadístico (menor probabilidad de rechazar la hipótesis nula cuando realmente es falsa) ya que ignoran valores extremos. En el caso de los t-test, al trabajar con medias, sí los tienen en cuenta. Esto a su vez, hace que el Wilcoxon signed-rank test sean una prueba más robusta que el t-test."
   ]
  },
  {
   "cell_type": "markdown",
   "metadata": {},
   "source": [
    "### Condiciones para la prueba de los rangos con signo de Wilcoxon\n",
    "\n",
    "- Los datos tienen que ser dependientes.\n",
    "\n",
    "- Los datos tienen que ser ordinales, se tienen que poder ordenar de menor a mayor o viceversa.\n",
    "\n",
    "- No es necesario asumir que las muestras se distribuyen de forma normal o que proceden de poblaciones normales. Pero sea cual sea el tipo de distribución de las diferencias, tiene que ser simétrica.\n",
    "\n",
    "- A pesar de considerarse el equivalente no paramétrico del t-test, el Wilcoxon signed-rank test trabaja con medianas, no con medias.\n",
    "\n",
    "- Preferible al t-test cuando hay valores atípicos, no hay normalidad de los datos o el tamaño de las muestras es pequeño."
   ]
  },
  {
   "cell_type": "code",
   "execution_count": 33,
   "metadata": {},
   "outputs": [
    {
     "name": "stderr",
     "output_type": "stream",
     "text": [
      "Warning message in wilcox.test.default(x = antes, y = despues, alternative = \"two.sided\", :\n",
      "“cannot compute exact p-value with ties”\n",
      "Warning message in wilcox.test.default(x = antes, y = despues, alternative = \"two.sided\", :\n",
      "“cannot compute exact p-value with zeroes”\n"
     ]
    },
    {
     "data": {
      "text/plain": [
       "\n",
       "\tWilcoxon signed rank test with continuity correction\n",
       "\n",
       "data:  antes and despues\n",
       "V = 3, p-value = 0.2763\n",
       "alternative hypothesis: true location shift is not equal to 0\n"
      ]
     },
     "metadata": {},
     "output_type": "display_data"
    }
   ],
   "source": [
    "antes <- c(2, 5, 4, 6, 1, 3)\n",
    "despues <- c(5, 6, 2, 7, 1, 6)\n",
    "\n",
    "wilcox.test(x = antes, y = despues, alternative = \"two.sided\", mu = 0, paired = TRUE)"
   ]
  },
  {
   "cell_type": "markdown",
   "metadata": {},
   "source": [
    "En la salida devuelta por wilcox.test(), el estadístico se denomina V en lugar de W.\n",
    "\n",
    "Cuando hay ligaduras o ties, wilcox.test() no es capaz de calcular el p-value exacto, por lo que devuelve un p-value aproximado asumiendo que W se distribuye de forma aproximadamente normal. En estos casos, o cuando los tamaños muestrales son mayores de 25, es recomendable emplear la función wilcoxsigned_test() del paquete coin, que devuelve el valor exacto de p-value en lugar de una aproximación."
   ]
  },
  {
   "cell_type": "code",
   "execution_count": 34,
   "metadata": {},
   "outputs": [
    {
     "data": {
      "text/plain": [
       "\n",
       "\tExact Wilcoxon-Pratt Signed-Rank Test\n",
       "\n",
       "data:  y by x (pos, neg) \n",
       "\t stratified by block\n",
       "Z = -1.272, p-value = 0.25\n",
       "alternative hypothesis: true mu is not equal to 0\n"
      ]
     },
     "metadata": {},
     "output_type": "display_data"
    }
   ],
   "source": [
    "require(coin)\n",
    "# La función wilcoxsigned_test() del paquete coin requiere pasarle los argumentos\n",
    "# en forma de función (~), por lo que los datos tienen que estar almacenados en\n",
    "# forma de data frame.\n",
    "\n",
    "datos <- data.frame(antes = antes, despues = despues)\n",
    "wilcoxsign_test(antes ~ despues, data = datos, distribution = \"exact\")"
   ]
  },
  {
   "cell_type": "markdown",
   "metadata": {},
   "source": [
    "## Test de Bartlett (python)\n",
    "\n",
    "Perform Bartlett’s test for equal variances.\n",
    "\n",
    "Bartlett’s test tests the null hypothesis that all input samples are from populations with equal variances. For samples from significantly non-normal populations, Levene’s test levene is more robust."
   ]
  },
  {
   "cell_type": "code",
   "execution_count": 3,
   "metadata": {},
   "outputs": [
    {
     "data": {
      "text/plain": [
       "1.1254782518834628e-05"
      ]
     },
     "execution_count": 3,
     "metadata": {},
     "output_type": "execute_result"
    }
   ],
   "source": [
    "from scipy.stats import bartlett\n",
    "import numpy as np\n",
    "\n",
    "a = [8.88, 9.12, 9.04, 8.98, 9.00, 9.08, 9.01, 8.85, 9.06, 8.99]\n",
    "b = [8.88, 8.95, 9.29, 9.44, 9.15, 9.58, 8.36, 9.18, 8.67, 9.05]\n",
    "c = [8.95, 9.12, 8.95, 8.85, 9.03, 8.84, 9.07, 8.98, 8.86, 8.98]\n",
    "stat, p = bartlett(a, b, c)\n",
    "p"
   ]
  },
  {
   "cell_type": "code",
   "execution_count": 4,
   "metadata": {},
   "outputs": [
    {
     "data": {
      "text/plain": [
       "[0.007054444444444413, 0.13073888888888888, 0.008890000000000002]"
      ]
     },
     "execution_count": 4,
     "metadata": {},
     "output_type": "execute_result"
    }
   ],
   "source": [
    "#The results corresponds to the big size difference of the variance of b:\n",
    "\n",
    "[np.var(x, ddof=1) for x in [a, b, c]] "
   ]
  },
  {
   "cell_type": "markdown",
   "metadata": {},
   "source": [
    "## Test de Levene\n",
    "\n",
    "Perform Levene test for equal variances.\n",
    "\n",
    "The Levene test tests the null hypothesis that all input samples are from populations with equal variances. Levene’s test is an alternative to Bartlett’s test bartlett in the case where there are significant deviations from normality.\n",
    "\n",
    "Three variations of Levene’s test are possible. The possibilities and their recommended usages are:\n",
    "\n",
    "- ‘median’ : Recommended for skewed (non-normal) distributions>\n",
    "\n",
    "- ‘mean’ : Recommended for symmetric, moderate-tailed distributions.\n",
    "\n",
    "- ‘trimmed’ : Recommended for heavy-tailed distributions.\n",
    "\n",
    "The test version using the mean was proposed in the original article of Levene ([2]) while the median and trimmed mean have been studied by Brown and Forsythe ([3]), sometimes also referred to as Brown-Forsythe test."
   ]
  },
  {
   "cell_type": "code",
   "execution_count": 5,
   "metadata": {},
   "outputs": [
    {
     "data": {
      "text/plain": [
       "0.002431505967249681"
      ]
     },
     "execution_count": 5,
     "metadata": {},
     "output_type": "execute_result"
    }
   ],
   "source": [
    "from scipy.stats import levene\n",
    "\n",
    "a = [8.88, 9.12, 9.04, 8.98, 9.00, 9.08, 9.01, 8.85, 9.06, 8.99]\n",
    "b = [8.88, 8.95, 9.29, 9.44, 9.15, 9.58, 8.36, 9.18, 8.67, 9.05]\n",
    "c = [8.95, 9.12, 8.95, 8.85, 9.03, 8.84, 9.07, 8.98, 8.86, 8.98]\n",
    "stat, p = levene(a, b, c)\n",
    "p"
   ]
  },
  {
   "cell_type": "code",
   "execution_count": 6,
   "metadata": {},
   "outputs": [
    {
     "data": {
      "text/plain": [
       "[0.007054444444444413, 0.13073888888888888, 0.008890000000000002]"
      ]
     },
     "execution_count": 6,
     "metadata": {},
     "output_type": "execute_result"
    }
   ],
   "source": [
    "[np.var(x, ddof=1) for x in [a, b, c]]"
   ]
  },
  {
   "cell_type": "markdown",
   "metadata": {},
   "source": [
    "# Data drift detection large datasets\n",
    "\n",
    "TL;DR: We compared five different statistical tests for drift detection on large datasets. Our goal was to build intuition on how the tests react to data changes of varying magnitude. We also share the code so you can run the experiments on your data.\n",
    "\n",
    "When ML models are in production, one often needs to keep tabs on the data drift. The goal is to detect changes in the input data distributions to make sure the model still operates in a familiar environment. Applying statistical tests to compare the new data with the old is one way to do it.\n",
    "\n",
    "However, the test outcomes may differ for \"small\" and \"large\" datasets.\n",
    "\n",
    "**Too much data, too much drift**\n",
    "\n",
    "Each statistical test has particular properties and in-built assumptions.\n",
    "\n",
    "*Let's take a two-sample Kolmogorov-Smirnov (KS) test.* It is often a default choice for detecting a distributional change in numerical features. While it does the job in many cases, the test can be \"too sensitive\" for larger datasets. It would fire alarms for many real-world use cases all the time, just because you have a lot of data and small changes add up. You need to account for such test behavior when picking your drift metric."
   ]
  },
  {
   "cell_type": "markdown",
   "metadata": {},
   "source": [
    "## Picking the drift metric\n",
    "\n",
    "OK, so measuring data drift for large datasets is hard. The good news is choosing the proper statistical test for the occasion is half the battle.\n",
    "\n",
    "But there are dozens of tests out there! How do you choose the best one?\n",
    "\n",
    "We've run some experiments and compared five popular statistical tests to answer this. In particular, we wanted to explore how the test results differ based on the data volume and magnitude of change.\n",
    "\n",
    "We hope it will help shape your intuition on how different tests behave on large datasets and how to choose the right one for your scenario.\n",
    "\n",
    "The list of statistical tests that will be use are:\n",
    "- Kolmogorov-Smirnov test\n",
    "- Population Stability index (PSI)\n",
    "- Wasserstein distance test (earth-mover-distance)\n",
    "- Kullback-leibler divergence\n",
    "- Jensen-Shannon distance\n",
    "\n",
    "First, we chose three features with different characteristics:\n",
    "\n",
    "- Feature 1— a continuous feature with non-normal distribution. For convenience, let's call it the \"Multimodal feature.\"\n",
    "- Feature 2— a variable with a heavy right tail. We'll call it the \"Right-tailed feature.\"\n",
    "- Feature 3— hereafter referred to as \"Feature with outliers.\"\n",
    "\n",
    "We picked these variables from three different publicly available datasets. The goal was to have features with various distribution shapes. For each variable, we had from 500,000 to 1 million observations.\n",
    "\n",
    "Then, we implemented a function to imitate data drift. We wanted to introduce an artificial change that would resemble real-world drift. To do that, we decided to shift the whole distribution for each feature by a fixed value. Here is the formula we used to create drift:\n",
    "\n",
    "$$ (alpha + mean(feature))*perc $$\n",
    "\n",
    "By using the mean value of each feature, we ensured that:\n",
    "\n",
    "1. The shift was relative to the feature value range\n",
    "2. It was possible to compare how tests behave for different features with a specific \"drift size.\"\n",
    "\n",
    "\n",
    "Once we came up with this artificial drift function, we applied this change to all or some points in the \"current\" dataset. We used two sets of parameters to imitate various degrees of drift:\n",
    "\n",
    "- drift_size: the percent by which we increase the initial values,\n",
    "- drift_ratio: the share of data points to which we apply the defined increase to imitate drift in a segment of data."
   ]
  },
  {
   "cell_type": "markdown",
   "metadata": {},
   "source": [
    "### "
   ]
  },
  {
   "cell_type": "code",
   "execution_count": null,
   "metadata": {},
   "outputs": [],
   "source": []
  }
 ],
 "metadata": {
  "kernelspec": {
   "display_name": "Python 3.8.11 ('bru_ds')",
   "language": "python",
   "name": "python3"
  },
  "language_info": {
   "codemirror_mode": {
    "name": "ipython",
    "version": 3
   },
   "file_extension": ".py",
   "mimetype": "text/x-python",
   "name": "python",
   "nbconvert_exporter": "python",
   "pygments_lexer": "ipython3",
   "version": "3.8.11"
  },
  "orig_nbformat": 4,
  "vscode": {
   "interpreter": {
    "hash": "ba7033ad42021d8fde750941f7374709dc7fad13ee27a9cd8f3ab36e378bdd7b"
   }
  }
 },
 "nbformat": 4,
 "nbformat_minor": 2
}
